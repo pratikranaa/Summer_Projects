{
 "cells": [
  {
   "cell_type": "code",
   "execution_count": 2,
   "id": "c97d33aa-062d-4a6c-8e75-1ab75f520768",
   "metadata": {},
   "outputs": [
    {
     "name": "stderr",
     "output_type": "stream",
     "text": [
      "11:49:57 - cmdstanpy - INFO - Chain [1] start processing\n",
      "11:50:04 - cmdstanpy - INFO - Chain [1] done processing\n"
     ]
    },
    {
     "data": {
      "application/vnd.jupyter.widget-view+json": {
       "model_id": "9e675fabd6f0439594e3c2477622737b",
       "version_major": 2,
       "version_minor": 0
      },
      "text/plain": [
       "  0%|          | 0/4 [00:00<?, ?it/s]"
      ]
     },
     "metadata": {},
     "output_type": "display_data"
    },
    {
     "name": "stderr",
     "output_type": "stream",
     "text": [
      "11:50:04 - cmdstanpy - INFO - Chain [1] start processing\n",
      "11:50:04 - cmdstanpy - INFO - Chain [1] done processing\n",
      "11:50:04 - cmdstanpy - INFO - Chain [1] start processing\n",
      "11:50:04 - cmdstanpy - INFO - Chain [1] done processing\n",
      "11:50:04 - cmdstanpy - INFO - Chain [1] start processing\n",
      "11:50:05 - cmdstanpy - INFO - Chain [1] done processing\n",
      "11:50:05 - cmdstanpy - INFO - Chain [1] start processing\n",
      "11:50:05 - cmdstanpy - INFO - Chain [1] done processing\n",
      "11:50:05 - cmdstanpy - INFO - Chain [1] start processing\n",
      "11:50:11 - cmdstanpy - INFO - Chain [1] done processing\n"
     ]
    },
    {
     "data": {
      "application/vnd.jupyter.widget-view+json": {
       "model_id": "d56626de4c124e4a9c478f4014090a2b",
       "version_major": 2,
       "version_minor": 0
      },
      "text/plain": [
       "  0%|          | 0/4 [00:00<?, ?it/s]"
      ]
     },
     "metadata": {},
     "output_type": "display_data"
    },
    {
     "name": "stderr",
     "output_type": "stream",
     "text": [
      "11:50:11 - cmdstanpy - INFO - Chain [1] start processing\n",
      "11:50:11 - cmdstanpy - INFO - Chain [1] done processing\n",
      "11:50:11 - cmdstanpy - INFO - Chain [1] start processing\n",
      "11:50:11 - cmdstanpy - INFO - Chain [1] done processing\n",
      "11:50:11 - cmdstanpy - INFO - Chain [1] start processing\n",
      "11:50:12 - cmdstanpy - INFO - Chain [1] done processing\n",
      "11:50:12 - cmdstanpy - INFO - Chain [1] start processing\n",
      "11:50:13 - cmdstanpy - INFO - Chain [1] done processing\n",
      "11:50:13 - cmdstanpy - INFO - Chain [1] start processing\n",
      "11:50:21 - cmdstanpy - INFO - Chain [1] done processing\n"
     ]
    },
    {
     "data": {
      "application/vnd.jupyter.widget-view+json": {
       "model_id": "e940972b78944099a79c4a6f09d87113",
       "version_major": 2,
       "version_minor": 0
      },
      "text/plain": [
       "  0%|          | 0/4 [00:00<?, ?it/s]"
      ]
     },
     "metadata": {},
     "output_type": "display_data"
    },
    {
     "name": "stderr",
     "output_type": "stream",
     "text": [
      "11:50:21 - cmdstanpy - INFO - Chain [1] start processing\n",
      "11:50:21 - cmdstanpy - INFO - Chain [1] done processing\n",
      "11:50:21 - cmdstanpy - INFO - Chain [1] start processing\n",
      "11:50:21 - cmdstanpy - INFO - Chain [1] done processing\n",
      "11:50:21 - cmdstanpy - INFO - Chain [1] start processing\n",
      "11:50:21 - cmdstanpy - INFO - Chain [1] done processing\n",
      "11:50:21 - cmdstanpy - INFO - Chain [1] start processing\n",
      "11:50:22 - cmdstanpy - INFO - Chain [1] done processing\n",
      "11:50:22 - cmdstanpy - INFO - Chain [1] start processing\n",
      "11:50:27 - cmdstanpy - INFO - Chain [1] done processing\n"
     ]
    },
    {
     "data": {
      "application/vnd.jupyter.widget-view+json": {
       "model_id": "970c387db2b241d195dc611df03282f3",
       "version_major": 2,
       "version_minor": 0
      },
      "text/plain": [
       "  0%|          | 0/4 [00:00<?, ?it/s]"
      ]
     },
     "metadata": {},
     "output_type": "display_data"
    },
    {
     "name": "stderr",
     "output_type": "stream",
     "text": [
      "11:50:27 - cmdstanpy - INFO - Chain [1] start processing\n",
      "11:50:27 - cmdstanpy - INFO - Chain [1] done processing\n",
      "11:50:27 - cmdstanpy - INFO - Chain [1] start processing\n",
      "11:50:27 - cmdstanpy - INFO - Chain [1] done processing\n",
      "11:50:27 - cmdstanpy - INFO - Chain [1] start processing\n",
      "11:50:28 - cmdstanpy - INFO - Chain [1] done processing\n",
      "11:50:28 - cmdstanpy - INFO - Chain [1] start processing\n",
      "11:50:28 - cmdstanpy - INFO - Chain [1] done processing\n",
      "11:50:28 - cmdstanpy - INFO - Chain [1] start processing\n",
      "11:50:38 - cmdstanpy - INFO - Chain [1] done processing\n"
     ]
    },
    {
     "data": {
      "application/vnd.jupyter.widget-view+json": {
       "model_id": "be0bd79dfcf04d51a68a6e46439314da",
       "version_major": 2,
       "version_minor": 0
      },
      "text/plain": [
       "  0%|          | 0/4 [00:00<?, ?it/s]"
      ]
     },
     "metadata": {},
     "output_type": "display_data"
    },
    {
     "name": "stderr",
     "output_type": "stream",
     "text": [
      "11:50:38 - cmdstanpy - INFO - Chain [1] start processing\n",
      "11:50:47 - cmdstanpy - INFO - Chain [1] done processing\n",
      "11:50:47 - cmdstanpy - INFO - Chain [1] start processing\n",
      "11:50:48 - cmdstanpy - INFO - Chain [1] done processing\n",
      "11:50:48 - cmdstanpy - INFO - Chain [1] start processing\n",
      "11:51:00 - cmdstanpy - INFO - Chain [1] done processing\n",
      "11:51:00 - cmdstanpy - INFO - Chain [1] start processing\n",
      "11:51:05 - cmdstanpy - INFO - Chain [1] done processing\n",
      "11:51:05 - cmdstanpy - INFO - Chain [1] start processing\n",
      "11:51:10 - cmdstanpy - INFO - Chain [1] done processing\n"
     ]
    },
    {
     "data": {
      "application/vnd.jupyter.widget-view+json": {
       "model_id": "c43e89f7ec7140c7819907ccbf33a7f1",
       "version_major": 2,
       "version_minor": 0
      },
      "text/plain": [
       "  0%|          | 0/4 [00:00<?, ?it/s]"
      ]
     },
     "metadata": {},
     "output_type": "display_data"
    },
    {
     "name": "stderr",
     "output_type": "stream",
     "text": [
      "11:51:10 - cmdstanpy - INFO - Chain [1] start processing\n",
      "11:51:11 - cmdstanpy - INFO - Chain [1] done processing\n",
      "11:51:11 - cmdstanpy - INFO - Chain [1] start processing\n",
      "11:51:22 - cmdstanpy - INFO - Chain [1] done processing\n",
      "11:51:22 - cmdstanpy - INFO - Chain [1] start processing\n",
      "11:51:33 - cmdstanpy - INFO - Chain [1] done processing\n",
      "11:51:33 - cmdstanpy - INFO - Chain [1] start processing\n",
      "11:51:46 - cmdstanpy - INFO - Chain [1] done processing\n",
      "11:51:47 - cmdstanpy - INFO - Chain [1] start processing\n",
      "11:51:49 - cmdstanpy - INFO - Chain [1] done processing\n"
     ]
    },
    {
     "data": {
      "application/vnd.jupyter.widget-view+json": {
       "model_id": "60d0457ee26d449cbf29988a7d7f2d22",
       "version_major": 2,
       "version_minor": 0
      },
      "text/plain": [
       "  0%|          | 0/4 [00:00<?, ?it/s]"
      ]
     },
     "metadata": {},
     "output_type": "display_data"
    },
    {
     "name": "stderr",
     "output_type": "stream",
     "text": [
      "11:51:49 - cmdstanpy - INFO - Chain [1] start processing\n",
      "11:51:58 - cmdstanpy - INFO - Chain [1] done processing\n",
      "11:51:58 - cmdstanpy - INFO - Chain [1] start processing\n",
      "11:51:59 - cmdstanpy - INFO - Chain [1] done processing\n",
      "11:51:59 - cmdstanpy - INFO - Chain [1] start processing\n",
      "11:52:11 - cmdstanpy - INFO - Chain [1] done processing\n",
      "11:52:11 - cmdstanpy - INFO - Chain [1] start processing\n",
      "11:52:25 - cmdstanpy - INFO - Chain [1] done processing\n",
      "11:52:25 - cmdstanpy - INFO - Chain [1] start processing\n",
      "11:52:40 - cmdstanpy - INFO - Chain [1] done processing\n"
     ]
    },
    {
     "data": {
      "application/vnd.jupyter.widget-view+json": {
       "model_id": "ecac29196336426681ff93b68eaaa245",
       "version_major": 2,
       "version_minor": 0
      },
      "text/plain": [
       "  0%|          | 0/4 [00:00<?, ?it/s]"
      ]
     },
     "metadata": {},
     "output_type": "display_data"
    },
    {
     "name": "stderr",
     "output_type": "stream",
     "text": [
      "11:52:40 - cmdstanpy - INFO - Chain [1] start processing\n",
      "11:52:49 - cmdstanpy - INFO - Chain [1] done processing\n",
      "11:52:49 - cmdstanpy - INFO - Chain [1] start processing\n",
      "11:52:49 - cmdstanpy - INFO - Chain [1] done processing\n",
      "11:52:49 - cmdstanpy - INFO - Chain [1] start processing\n",
      "11:53:02 - cmdstanpy - INFO - Chain [1] done processing\n",
      "11:53:02 - cmdstanpy - INFO - Chain [1] start processing\n",
      "11:53:15 - cmdstanpy - INFO - Chain [1] done processing\n",
      "11:53:15 - cmdstanpy - INFO - Chain [1] start processing\n",
      "11:53:28 - cmdstanpy - INFO - Chain [1] done processing\n"
     ]
    },
    {
     "data": {
      "application/vnd.jupyter.widget-view+json": {
       "model_id": "0e3de4a399aa414990ddc48417866232",
       "version_major": 2,
       "version_minor": 0
      },
      "text/plain": [
       "  0%|          | 0/4 [00:00<?, ?it/s]"
      ]
     },
     "metadata": {},
     "output_type": "display_data"
    },
    {
     "name": "stderr",
     "output_type": "stream",
     "text": [
      "11:53:28 - cmdstanpy - INFO - Chain [1] start processing\n",
      "11:53:37 - cmdstanpy - INFO - Chain [1] done processing\n",
      "11:53:37 - cmdstanpy - INFO - Chain [1] start processing\n",
      "11:53:49 - cmdstanpy - INFO - Chain [1] done processing\n",
      "11:53:49 - cmdstanpy - INFO - Chain [1] start processing\n",
      "11:54:01 - cmdstanpy - INFO - Chain [1] done processing\n",
      "11:54:01 - cmdstanpy - INFO - Chain [1] start processing\n",
      "11:54:15 - cmdstanpy - INFO - Chain [1] done processing\n",
      "11:54:15 - cmdstanpy - INFO - Chain [1] start processing\n",
      "11:54:30 - cmdstanpy - INFO - Chain [1] done processing\n"
     ]
    },
    {
     "data": {
      "application/vnd.jupyter.widget-view+json": {
       "model_id": "cdc201a546d646c8a555a2571ef5d9e4",
       "version_major": 2,
       "version_minor": 0
      },
      "text/plain": [
       "  0%|          | 0/4 [00:00<?, ?it/s]"
      ]
     },
     "metadata": {},
     "output_type": "display_data"
    },
    {
     "name": "stderr",
     "output_type": "stream",
     "text": [
      "11:54:30 - cmdstanpy - INFO - Chain [1] start processing\n",
      "11:54:39 - cmdstanpy - INFO - Chain [1] done processing\n",
      "11:54:40 - cmdstanpy - INFO - Chain [1] start processing\n",
      "11:54:51 - cmdstanpy - INFO - Chain [1] done processing\n",
      "11:54:51 - cmdstanpy - INFO - Chain [1] start processing\n",
      "11:55:03 - cmdstanpy - INFO - Chain [1] done processing\n",
      "11:55:04 - cmdstanpy - INFO - Chain [1] start processing\n",
      "11:55:16 - cmdstanpy - INFO - Chain [1] done processing\n",
      "11:55:16 - cmdstanpy - INFO - Chain [1] start processing\n",
      "11:55:27 - cmdstanpy - INFO - Chain [1] done processing\n"
     ]
    },
    {
     "data": {
      "application/vnd.jupyter.widget-view+json": {
       "model_id": "8eb16aa6c1bd4c248a9bc16c947e05c9",
       "version_major": 2,
       "version_minor": 0
      },
      "text/plain": [
       "  0%|          | 0/4 [00:00<?, ?it/s]"
      ]
     },
     "metadata": {},
     "output_type": "display_data"
    },
    {
     "name": "stderr",
     "output_type": "stream",
     "text": [
      "11:55:27 - cmdstanpy - INFO - Chain [1] start processing\n",
      "11:55:37 - cmdstanpy - INFO - Chain [1] done processing\n",
      "11:55:37 - cmdstanpy - INFO - Chain [1] start processing\n",
      "11:55:48 - cmdstanpy - INFO - Chain [1] done processing\n",
      "11:55:48 - cmdstanpy - INFO - Chain [1] start processing\n",
      "11:56:00 - cmdstanpy - INFO - Chain [1] done processing\n",
      "11:56:00 - cmdstanpy - INFO - Chain [1] start processing\n",
      "11:56:12 - cmdstanpy - INFO - Chain [1] done processing\n",
      "11:56:13 - cmdstanpy - INFO - Chain [1] start processing\n",
      "11:56:19 - cmdstanpy - INFO - Chain [1] done processing\n"
     ]
    },
    {
     "data": {
      "application/vnd.jupyter.widget-view+json": {
       "model_id": "f01e54337fbf412c9c45c6d50a786aeb",
       "version_major": 2,
       "version_minor": 0
      },
      "text/plain": [
       "  0%|          | 0/4 [00:00<?, ?it/s]"
      ]
     },
     "metadata": {},
     "output_type": "display_data"
    },
    {
     "name": "stderr",
     "output_type": "stream",
     "text": [
      "11:56:19 - cmdstanpy - INFO - Chain [1] start processing\n",
      "11:56:21 - cmdstanpy - INFO - Chain [1] done processing\n",
      "11:56:21 - cmdstanpy - INFO - Chain [1] start processing\n",
      "11:56:32 - cmdstanpy - INFO - Chain [1] done processing\n",
      "11:56:32 - cmdstanpy - INFO - Chain [1] start processing\n",
      "11:56:44 - cmdstanpy - INFO - Chain [1] done processing\n",
      "11:56:44 - cmdstanpy - INFO - Chain [1] start processing\n",
      "11:56:58 - cmdstanpy - INFO - Chain [1] done processing\n",
      "11:56:58 - cmdstanpy - INFO - Chain [1] start processing\n",
      "11:57:00 - cmdstanpy - INFO - Chain [1] done processing\n"
     ]
    },
    {
     "data": {
      "application/vnd.jupyter.widget-view+json": {
       "model_id": "5f61469cce8d4fe4b5801aa498187b7e",
       "version_major": 2,
       "version_minor": 0
      },
      "text/plain": [
       "  0%|          | 0/4 [00:00<?, ?it/s]"
      ]
     },
     "metadata": {},
     "output_type": "display_data"
    },
    {
     "name": "stderr",
     "output_type": "stream",
     "text": [
      "11:57:00 - cmdstanpy - INFO - Chain [1] start processing\n",
      "11:57:09 - cmdstanpy - INFO - Chain [1] done processing\n",
      "11:57:09 - cmdstanpy - INFO - Chain [1] start processing\n",
      "11:57:21 - cmdstanpy - INFO - Chain [1] done processing\n",
      "11:57:21 - cmdstanpy - INFO - Chain [1] start processing\n",
      "11:57:33 - cmdstanpy - INFO - Chain [1] done processing\n",
      "11:57:33 - cmdstanpy - INFO - Chain [1] start processing\n",
      "11:57:47 - cmdstanpy - INFO - Chain [1] done processing\n",
      "11:57:47 - cmdstanpy - INFO - Chain [1] start processing\n",
      "11:57:58 - cmdstanpy - INFO - Chain [1] done processing\n"
     ]
    },
    {
     "data": {
      "application/vnd.jupyter.widget-view+json": {
       "model_id": "7baf1784e885409e9d2e6e0b05f85f0b",
       "version_major": 2,
       "version_minor": 0
      },
      "text/plain": [
       "  0%|          | 0/4 [00:00<?, ?it/s]"
      ]
     },
     "metadata": {},
     "output_type": "display_data"
    },
    {
     "name": "stderr",
     "output_type": "stream",
     "text": [
      "11:57:58 - cmdstanpy - INFO - Chain [1] start processing\n",
      "11:58:07 - cmdstanpy - INFO - Chain [1] done processing\n",
      "11:58:07 - cmdstanpy - INFO - Chain [1] start processing\n",
      "11:58:19 - cmdstanpy - INFO - Chain [1] done processing\n",
      "11:58:19 - cmdstanpy - INFO - Chain [1] start processing\n",
      "11:58:31 - cmdstanpy - INFO - Chain [1] done processing\n",
      "11:58:31 - cmdstanpy - INFO - Chain [1] start processing\n",
      "11:58:45 - cmdstanpy - INFO - Chain [1] done processing\n",
      "11:58:45 - cmdstanpy - INFO - Chain [1] start processing\n",
      "11:59:00 - cmdstanpy - INFO - Chain [1] done processing\n"
     ]
    },
    {
     "data": {
      "application/vnd.jupyter.widget-view+json": {
       "model_id": "5556a01adff04b4ba72aca8f008fe991",
       "version_major": 2,
       "version_minor": 0
      },
      "text/plain": [
       "  0%|          | 0/4 [00:00<?, ?it/s]"
      ]
     },
     "metadata": {},
     "output_type": "display_data"
    },
    {
     "name": "stderr",
     "output_type": "stream",
     "text": [
      "11:59:00 - cmdstanpy - INFO - Chain [1] start processing\n",
      "11:59:08 - cmdstanpy - INFO - Chain [1] done processing\n",
      "11:59:08 - cmdstanpy - INFO - Chain [1] start processing\n",
      "11:59:14 - cmdstanpy - INFO - Chain [1] done processing\n",
      "11:59:14 - cmdstanpy - INFO - Chain [1] start processing\n",
      "11:59:26 - cmdstanpy - INFO - Chain [1] done processing\n",
      "11:59:26 - cmdstanpy - INFO - Chain [1] start processing\n",
      "11:59:40 - cmdstanpy - INFO - Chain [1] done processing\n",
      "11:59:40 - cmdstanpy - INFO - Chain [1] start processing\n",
      "11:59:48 - cmdstanpy - INFO - Chain [1] done processing\n"
     ]
    },
    {
     "data": {
      "application/vnd.jupyter.widget-view+json": {
       "model_id": "bffd704b3aff41f58186b33058997e8e",
       "version_major": 2,
       "version_minor": 0
      },
      "text/plain": [
       "  0%|          | 0/4 [00:00<?, ?it/s]"
      ]
     },
     "metadata": {},
     "output_type": "display_data"
    },
    {
     "name": "stderr",
     "output_type": "stream",
     "text": [
      "11:59:48 - cmdstanpy - INFO - Chain [1] start processing\n",
      "11:59:55 - cmdstanpy - INFO - Chain [1] done processing\n",
      "11:59:55 - cmdstanpy - INFO - Chain [1] start processing\n",
      "12:00:07 - cmdstanpy - INFO - Chain [1] done processing\n",
      "12:00:07 - cmdstanpy - INFO - Chain [1] start processing\n",
      "12:00:19 - cmdstanpy - INFO - Chain [1] done processing\n",
      "12:00:19 - cmdstanpy - INFO - Chain [1] start processing\n",
      "12:00:33 - cmdstanpy - INFO - Chain [1] done processing\n",
      "12:00:33 - cmdstanpy - INFO - Chain [1] start processing\n",
      "12:00:39 - cmdstanpy - INFO - Chain [1] done processing\n",
      "ValueError: The model has not been fitted yet, and `retrain` is ``False``. Either call `fit()` before `historical_forecasts()`, or set `retrain` to something different than ``False``.\n"
     ]
    },
    {
     "ename": "ValueError",
     "evalue": "The model has not been fitted yet, and `retrain` is ``False``. Either call `fit()` before `historical_forecasts()`, or set `retrain` to something different than ``False``.",
     "output_type": "error",
     "traceback": [
      "\u001b[0;31m---------------------------------------------------------------------------\u001b[0m",
      "\u001b[0;31mValueError\u001b[0m                                Traceback (most recent call last)",
      "Cell \u001b[0;32mIn[2], line 196\u001b[0m\n\u001b[1;32m    193\u001b[0m skus_to_forecast \u001b[38;5;241m=\u001b[39m [\u001b[38;5;124m'\u001b[39m\u001b[38;5;124msku835\u001b[39m\u001b[38;5;124m'\u001b[39m, \u001b[38;5;124m'\u001b[39m\u001b[38;5;124msku858\u001b[39m\u001b[38;5;124m'\u001b[39m, \u001b[38;5;124m'\u001b[39m\u001b[38;5;124msku837\u001b[39m\u001b[38;5;124m'\u001b[39m, \u001b[38;5;124m'\u001b[39m\u001b[38;5;124msku859\u001b[39m\u001b[38;5;124m'\u001b[39m, \u001b[38;5;124m'\u001b[39m\u001b[38;5;124msku863\u001b[39m\u001b[38;5;124m'\u001b[39m]\n\u001b[1;32m    195\u001b[0m \u001b[38;5;28;01mfor\u001b[39;00m sku \u001b[38;5;129;01min\u001b[39;00m skus_to_forecast:\n\u001b[0;32m--> 196\u001b[0m     prediction \u001b[38;5;241m=\u001b[39m \u001b[43mforecast_sku\u001b[49m\u001b[43m(\u001b[49m\u001b[43msku\u001b[49m\u001b[43m)\u001b[49m\n\u001b[1;32m    197\u001b[0m     compare_with_feb_2023(sku, prediction)\n",
      "Cell \u001b[0;32mIn[2], line 172\u001b[0m, in \u001b[0;36mforecast_sku\u001b[0;34m(sku, steps)\u001b[0m\n\u001b[1;32m    169\u001b[0m prophet_pred \u001b[38;5;241m=\u001b[39m prophet_forecast(data, steps)\n\u001b[1;32m    171\u001b[0m \u001b[38;5;66;03m# Darts forecasts\u001b[39;00m\n\u001b[0;32m--> 172\u001b[0m darts_preds \u001b[38;5;241m=\u001b[39m \u001b[43mdarts_forecast\u001b[49m\u001b[43m(\u001b[49m\u001b[43mseries\u001b[49m\u001b[43m,\u001b[49m\u001b[43m \u001b[49m\u001b[43msteps\u001b[49m\u001b[43m)\u001b[49m\n\u001b[1;32m    174\u001b[0m \u001b[38;5;66;03m# Ensemble\u001b[39;00m\n\u001b[1;32m    175\u001b[0m ensemble_pred \u001b[38;5;241m=\u001b[39m ensemble_forecast(darts_preds)\n",
      "Cell \u001b[0;32mIn[2], line 140\u001b[0m, in \u001b[0;36mdarts_forecast\u001b[0;34m(series, steps)\u001b[0m\n\u001b[1;32m    139\u001b[0m \u001b[38;5;28;01mdef\u001b[39;00m \u001b[38;5;21mdarts_forecast\u001b[39m(series, steps):\n\u001b[0;32m--> 140\u001b[0m     xgb_params \u001b[38;5;241m=\u001b[39m \u001b[43moptimize_xgb\u001b[49m\u001b[43m(\u001b[49m\u001b[43mseries\u001b[49m\u001b[43m)\u001b[49m\n\u001b[1;32m    141\u001b[0m     models \u001b[38;5;241m=\u001b[39m [\n\u001b[1;32m    142\u001b[0m         DartsProphet(),\n\u001b[1;32m    143\u001b[0m         XGBModel(\u001b[38;5;241m*\u001b[39m\u001b[38;5;241m*\u001b[39mxgb_params),\n\u001b[1;32m    144\u001b[0m         RandomForest(),\n\u001b[1;32m    145\u001b[0m         ExponentialSmoothing()\n\u001b[1;32m    146\u001b[0m     ]\n\u001b[1;32m    148\u001b[0m     forecasts \u001b[38;5;241m=\u001b[39m []\n",
      "Cell \u001b[0;32mIn[2], line 123\u001b[0m, in \u001b[0;36moptimize_xgb\u001b[0;34m(series)\u001b[0m\n\u001b[1;32m    121\u001b[0m \u001b[38;5;28;01mfor\u001b[39;00m params \u001b[38;5;129;01min\u001b[39;00m ParameterGrid(param_grid):\n\u001b[1;32m    122\u001b[0m     model \u001b[38;5;241m=\u001b[39m XGBModel(\u001b[38;5;241m*\u001b[39m\u001b[38;5;241m*\u001b[39mparams, lags\u001b[38;5;241m=\u001b[39m\u001b[38;5;241m12\u001b[39m)\n\u001b[0;32m--> 123\u001b[0m     mape_score \u001b[38;5;241m=\u001b[39m \u001b[43mmodel\u001b[49m\u001b[38;5;241;43m.\u001b[39;49m\u001b[43mhistorical_forecasts\u001b[49m\u001b[43m(\u001b[49m\n\u001b[1;32m    124\u001b[0m \u001b[43m        \u001b[49m\u001b[43mseries\u001b[49m\u001b[43m,\u001b[49m\n\u001b[1;32m    125\u001b[0m \u001b[43m        \u001b[49m\u001b[43mstart\u001b[49m\u001b[38;5;241;43m=\u001b[39;49m\u001b[38;5;241;43m0.6\u001b[39;49m\u001b[43m,\u001b[49m\n\u001b[1;32m    126\u001b[0m \u001b[43m        \u001b[49m\u001b[43mforecast_horizon\u001b[49m\u001b[38;5;241;43m=\u001b[39;49m\u001b[38;5;241;43m1\u001b[39;49m\u001b[43m,\u001b[49m\n\u001b[1;32m    127\u001b[0m \u001b[43m        \u001b[49m\u001b[43mstride\u001b[49m\u001b[38;5;241;43m=\u001b[39;49m\u001b[38;5;241;43m1\u001b[39;49m\u001b[43m,\u001b[49m\n\u001b[1;32m    128\u001b[0m \u001b[43m        \u001b[49m\u001b[43mretrain\u001b[49m\u001b[38;5;241;43m=\u001b[39;49m\u001b[38;5;28;43;01mFalse\u001b[39;49;00m\u001b[43m,\u001b[49m\n\u001b[1;32m    129\u001b[0m \u001b[43m        \u001b[49m\u001b[43mverbose\u001b[49m\u001b[38;5;241;43m=\u001b[39;49m\u001b[38;5;28;43;01mFalse\u001b[39;49;00m\n\u001b[1;32m    130\u001b[0m \u001b[43m    \u001b[49m\u001b[43m)\u001b[49m\u001b[38;5;241m.\u001b[39mmean()\n\u001b[1;32m    132\u001b[0m     \u001b[38;5;28;01mif\u001b[39;00m mape_score \u001b[38;5;241m<\u001b[39m best_mape:\n\u001b[1;32m    133\u001b[0m         best_mape \u001b[38;5;241m=\u001b[39m mape_score\n",
      "File \u001b[0;32m~/.local/lib/python3.10/site-packages/darts/utils/utils.py:143\u001b[0m, in \u001b[0;36m_with_sanity_checks.<locals>.decorator.<locals>.sanitized_method\u001b[0;34m(self, *args, **kwargs)\u001b[0m\n\u001b[1;32m    140\u001b[0m     only_args\u001b[38;5;241m.\u001b[39mpop(\u001b[38;5;124m\"\u001b[39m\u001b[38;5;124mself\u001b[39m\u001b[38;5;124m\"\u001b[39m)\n\u001b[1;32m    142\u001b[0m     \u001b[38;5;28mgetattr\u001b[39m(\u001b[38;5;28mself\u001b[39m, sanity_check_method)(\u001b[38;5;241m*\u001b[39monly_args\u001b[38;5;241m.\u001b[39mvalues(), \u001b[38;5;241m*\u001b[39m\u001b[38;5;241m*\u001b[39monly_kwargs)\n\u001b[0;32m--> 143\u001b[0m \u001b[38;5;28;01mreturn\u001b[39;00m \u001b[43mmethod_to_sanitize\u001b[49m\u001b[43m(\u001b[49m\u001b[38;5;28;43mself\u001b[39;49m\u001b[43m,\u001b[49m\u001b[43m \u001b[49m\u001b[38;5;241;43m*\u001b[39;49m\u001b[43monly_args\u001b[49m\u001b[38;5;241;43m.\u001b[39;49m\u001b[43mvalues\u001b[49m\u001b[43m(\u001b[49m\u001b[43m)\u001b[49m\u001b[43m,\u001b[49m\u001b[43m \u001b[49m\u001b[38;5;241;43m*\u001b[39;49m\u001b[38;5;241;43m*\u001b[39;49m\u001b[43monly_kwargs\u001b[49m\u001b[43m)\u001b[49m\n",
      "File \u001b[0;32m~/.local/lib/python3.10/site-packages/darts/models/forecasting/forecasting_model.py:781\u001b[0m, in \u001b[0;36mForecastingModel.historical_forecasts\u001b[0;34m(self, series, past_covariates, future_covariates, num_samples, train_length, start, start_format, forecast_horizon, stride, retrain, overlap_end, last_points_only, verbose, show_warnings, predict_likelihood_parameters, enable_optimization, fit_kwargs, predict_kwargs)\u001b[0m\n\u001b[1;32m    778\u001b[0m base_class_name \u001b[38;5;241m=\u001b[39m model\u001b[38;5;241m.\u001b[39m\u001b[38;5;18m__class__\u001b[39m\u001b[38;5;241m.\u001b[39m__base__\u001b[38;5;241m.\u001b[39m\u001b[38;5;18m__name__\u001b[39m\n\u001b[1;32m    780\u001b[0m \u001b[38;5;66;03m# we can directly abort if retrain is False and fit hasn't been called before\u001b[39;00m\n\u001b[0;32m--> 781\u001b[0m \u001b[43mraise_if\u001b[49m\u001b[43m(\u001b[49m\n\u001b[1;32m    782\u001b[0m \u001b[43m    \u001b[49m\u001b[38;5;129;43;01mnot\u001b[39;49;00m\u001b[43m \u001b[49m\u001b[43mmodel\u001b[49m\u001b[38;5;241;43m.\u001b[39;49m\u001b[43m_fit_called\u001b[49m\u001b[43m \u001b[49m\u001b[38;5;129;43;01mand\u001b[39;49;00m\u001b[43m \u001b[49m\u001b[43mretrain\u001b[49m\u001b[43m \u001b[49m\u001b[38;5;129;43;01mis\u001b[39;49;00m\u001b[43m \u001b[49m\u001b[38;5;28;43;01mFalse\u001b[39;49;00m\u001b[43m,\u001b[49m\n\u001b[1;32m    783\u001b[0m \u001b[43m    \u001b[49m\u001b[38;5;124;43m\"\u001b[39;49m\u001b[38;5;124;43mThe model has not been fitted yet, and `retrain` is ``False``. \u001b[39;49m\u001b[38;5;124;43m\"\u001b[39;49m\n\u001b[1;32m    784\u001b[0m \u001b[43m    \u001b[49m\u001b[38;5;124;43m\"\u001b[39;49m\u001b[38;5;124;43mEither call `fit()` before `historical_forecasts()`, or set `retrain` \u001b[39;49m\u001b[38;5;124;43m\"\u001b[39;49m\n\u001b[1;32m    785\u001b[0m \u001b[43m    \u001b[49m\u001b[38;5;124;43m\"\u001b[39;49m\u001b[38;5;124;43mto something different than ``False``.\u001b[39;49m\u001b[38;5;124;43m\"\u001b[39;49m\u001b[43m,\u001b[49m\n\u001b[1;32m    786\u001b[0m \u001b[43m    \u001b[49m\u001b[43mlogger\u001b[49m\u001b[43m,\u001b[49m\n\u001b[1;32m    787\u001b[0m \u001b[43m\u001b[49m\u001b[43m)\u001b[49m\n\u001b[1;32m    789\u001b[0m raise_if(\n\u001b[1;32m    790\u001b[0m     (\u001b[38;5;28misinstance\u001b[39m(retrain, Callable) \u001b[38;5;129;01mor\u001b[39;00m \u001b[38;5;28mint\u001b[39m(retrain) \u001b[38;5;241m!=\u001b[39m \u001b[38;5;241m1\u001b[39m)\n\u001b[1;32m    791\u001b[0m     \u001b[38;5;129;01mand\u001b[39;00m (\u001b[38;5;129;01mnot\u001b[39;00m model\u001b[38;5;241m.\u001b[39m_supports_non_retrainable_historical_forecasts),\n\u001b[0;32m   (...)\u001b[0m\n\u001b[1;32m    795\u001b[0m     logger,\n\u001b[1;32m    796\u001b[0m )\n\u001b[1;32m    798\u001b[0m \u001b[38;5;28;01mif\u001b[39;00m train_length \u001b[38;5;129;01mand\u001b[39;00m \u001b[38;5;129;01mnot\u001b[39;00m \u001b[38;5;28misinstance\u001b[39m(train_length, \u001b[38;5;28mint\u001b[39m):\n",
      "File \u001b[0;32m~/.local/lib/python3.10/site-packages/darts/logging.py:105\u001b[0m, in \u001b[0;36mraise_if\u001b[0;34m(condition, message, logger)\u001b[0m\n\u001b[1;32m     82\u001b[0m \u001b[38;5;28;01mdef\u001b[39;00m \u001b[38;5;21mraise_if\u001b[39m(\n\u001b[1;32m     83\u001b[0m     condition: \u001b[38;5;28mbool\u001b[39m,\n\u001b[1;32m     84\u001b[0m     message: \u001b[38;5;28mstr\u001b[39m \u001b[38;5;241m=\u001b[39m \u001b[38;5;124m\"\u001b[39m\u001b[38;5;124m\"\u001b[39m,\n\u001b[1;32m     85\u001b[0m     logger: logging\u001b[38;5;241m.\u001b[39mLogger \u001b[38;5;241m=\u001b[39m get_logger(\u001b[38;5;124m\"\u001b[39m\u001b[38;5;124mmain_logger\u001b[39m\u001b[38;5;124m\"\u001b[39m),\n\u001b[1;32m     86\u001b[0m ):\n\u001b[1;32m     87\u001b[0m \u001b[38;5;250m    \u001b[39m\u001b[38;5;124;03m\"\"\"\u001b[39;00m\n\u001b[1;32m     88\u001b[0m \u001b[38;5;124;03m    Checks provided boolean condition and raises a ValueError if it evaluates to True.\u001b[39;00m\n\u001b[1;32m     89\u001b[0m \u001b[38;5;124;03m    It logs the error to the provided logger before raising it.\u001b[39;00m\n\u001b[0;32m   (...)\u001b[0m\n\u001b[1;32m    103\u001b[0m \u001b[38;5;124;03m        if `condition` is satisfied\u001b[39;00m\n\u001b[1;32m    104\u001b[0m \u001b[38;5;124;03m    \"\"\"\u001b[39;00m\n\u001b[0;32m--> 105\u001b[0m     \u001b[43mraise_if_not\u001b[49m\u001b[43m(\u001b[49m\u001b[38;5;129;43;01mnot\u001b[39;49;00m\u001b[43m \u001b[49m\u001b[43mcondition\u001b[49m\u001b[43m,\u001b[49m\u001b[43m \u001b[49m\u001b[43mmessage\u001b[49m\u001b[43m,\u001b[49m\u001b[43m \u001b[49m\u001b[43mlogger\u001b[49m\u001b[43m)\u001b[49m\n",
      "File \u001b[0;32m~/.local/lib/python3.10/site-packages/darts/logging.py:79\u001b[0m, in \u001b[0;36mraise_if_not\u001b[0;34m(condition, message, logger)\u001b[0m\n\u001b[1;32m     77\u001b[0m \u001b[38;5;28;01mif\u001b[39;00m \u001b[38;5;129;01mnot\u001b[39;00m condition:\n\u001b[1;32m     78\u001b[0m     logger\u001b[38;5;241m.\u001b[39merror(\u001b[38;5;124m\"\u001b[39m\u001b[38;5;124mValueError: \u001b[39m\u001b[38;5;124m\"\u001b[39m \u001b[38;5;241m+\u001b[39m message)\n\u001b[0;32m---> 79\u001b[0m     \u001b[38;5;28;01mraise\u001b[39;00m \u001b[38;5;167;01mValueError\u001b[39;00m(message)\n",
      "\u001b[0;31mValueError\u001b[0m: The model has not been fitted yet, and `retrain` is ``False``. Either call `fit()` before `historical_forecasts()`, or set `retrain` to something different than ``False``."
     ]
    }
   ],
   "source": [
    "import pandas as pd\n",
    "import numpy as np\n",
    "import itertools\n",
    "from statsmodels.tsa.statespace.sarimax import SARIMAX\n",
    "from prophet import Prophet\n",
    "from prophet.diagnostics import cross_validation, performance_metrics\n",
    "from darts import TimeSeries\n",
    "from darts.models import Prophet as DartsProphet, XGBModel, RandomForest, ExponentialSmoothing\n",
    "from darts.metrics import mape\n",
    "from sklearn.model_selection import ParameterGrid\n",
    "import warnings\n",
    "\n",
    "warnings.filterwarnings('ignore')\n",
    "\n",
    "# Load the data\n",
    "df = pd.read_csv('100_SKUS.csv')\n",
    "\n",
    "# Convert date columns to datetime\n",
    "date_columns = [col for col in df.columns if col != 'material']\n",
    "for col in date_columns:\n",
    "    df[col] = pd.to_datetime(col)\n",
    "\n",
    "# Function to prepare data for a specific SKU\n",
    "def prepare_data(sku):\n",
    "    sku_data = df[df['material'] == sku].melt(id_vars=['material'], var_name='date', value_name='value')\n",
    "    sku_data['date'] = pd.to_datetime(sku_data['date'])\n",
    "    sku_data = sku_data.sort_values('date')\n",
    "    sku_data['value'] = pd.to_numeric(sku_data['value'], errors='coerce')\n",
    "    sku_data = sku_data.dropna()\n",
    "    return sku_data\n",
    "\n",
    "# Function to create Darts TimeSeries\n",
    "def create_darts_series(data):\n",
    "    return TimeSeries.from_dataframe(data, 'date', 'value')\n",
    "\n",
    "from statsmodels.tsa.statespace.sarimax import SARIMAX\n",
    "from statsmodels.tools.sm_exceptions import ConvergenceWarning\n",
    "import warnings\n",
    "\n",
    "warnings.simplefilter('ignore', ConvergenceWarning)\n",
    "\n",
    "def evaluate_sarima_model(data, order, seasonal_order):\n",
    "    try:\n",
    "        model = SARIMAX(data['value'], order=order, seasonal_order=seasonal_order,\n",
    "                        enforce_stationarity=False, enforce_invertibility=False)\n",
    "        results = model.fit(disp=False, maxiter=200)\n",
    "        return results.aic\n",
    "    except:\n",
    "        return float('inf')\n",
    "\n",
    "def optimize_sarima(data, s=12):\n",
    "    p = d = q = range(0, 2)\n",
    "    pdq = list(itertools.product(p, d, q))\n",
    "    seasonal_pdq = [(x[0], x[1], x[2], s) for x in list(itertools.product(p, d, q))]\n",
    "    \n",
    "    best_aic = float('inf')\n",
    "    best_params = None\n",
    "    best_seasonal_params = None\n",
    "    \n",
    "    for param in pdq:\n",
    "        for seasonal_param in seasonal_pdq:\n",
    "            aic = evaluate_sarima_model(data, param, seasonal_param)\n",
    "            if aic < best_aic:\n",
    "                best_aic = aic\n",
    "                best_params = param\n",
    "                best_seasonal_params = seasonal_param\n",
    "    \n",
    "    return best_params, best_seasonal_params\n",
    "\n",
    "def sarima_forecast(data, steps):\n",
    "    best_params, best_seasonal_params = optimize_sarima(data)\n",
    "    try:\n",
    "        model = SARIMAX(data['value'], order=best_params, seasonal_order=best_seasonal_params,\n",
    "                        enforce_stationarity=False, enforce_invertibility=False)\n",
    "        results = model.fit(disp=False, maxiter=200)\n",
    "        forecast = results.forecast(steps)\n",
    "        return forecast\n",
    "    except:\n",
    "        print(f\"SARIMA forecast failed. Returning zeros.\")\n",
    "        return np.zeros(steps)\n",
    "# Optimize Prophet parameters\n",
    "def optimize_prophet(data):\n",
    "    param_grid = {  \n",
    "        'changepoint_prior_scale': [0.001, 0.01, 0.1, 0.5],\n",
    "        'seasonality_prior_scale': [0.01, 0.1, 1.0, 10.0],\n",
    "    }\n",
    "\n",
    "    all_params = [dict(zip(param_grid.keys(), v)) for v in itertools.product(*param_grid.values())]\n",
    "    rmses = []\n",
    "\n",
    "    for params in all_params:\n",
    "        m = Prophet(**params).fit(data)\n",
    "        df_cv = cross_validation(m, initial='730 days', period='180 days', horizon='365 days')\n",
    "        df_p = performance_metrics(df_cv, rolling_window=1)\n",
    "        rmses.append(df_p['rmse'].values[0])\n",
    "\n",
    "    best_params = all_params[np.argmin(rmses)]\n",
    "    return best_params\n",
    "\n",
    "# Prophet model\n",
    "def prophet_forecast(data, steps):\n",
    "    prophet_data = data.rename(columns={'date': 'ds', 'value': 'y'})\n",
    "    best_params = optimize_prophet(prophet_data)\n",
    "    model = Prophet(**best_params)\n",
    "    model.fit(prophet_data)\n",
    "    future = model.make_future_dataframe(periods=steps, freq='MS')\n",
    "    forecast = model.predict(future)\n",
    "    return forecast['yhat'].iloc[-steps:]\n",
    "\n",
    "# Optimize XGBoost parameters\n",
    "def optimize_xgb(series):\n",
    "    param_grid = {\n",
    "        'n_estimators': [100, 200],\n",
    "        'max_depth': [3, 4],\n",
    "        'learning_rate': [0.01, 0.1],\n",
    "    }\n",
    "    \n",
    "    best_mape = float('inf')\n",
    "    best_params = None\n",
    "    \n",
    "    for params in ParameterGrid(param_grid):\n",
    "        model = XGBModel(**params, lags=12)\n",
    "        mape_score = model.historical_forecasts(\n",
    "            series,\n",
    "            start=0.6,\n",
    "            forecast_horizon=1,\n",
    "            stride=1,\n",
    "            retrain=False,\n",
    "            verbose=False\n",
    "        ).mean()\n",
    "        \n",
    "        if mape_score < best_mape:\n",
    "            best_mape = mape_score\n",
    "            best_params = params\n",
    "    \n",
    "    return best_params\n",
    "\n",
    "# Darts models\n",
    "def darts_forecast(series, steps):\n",
    "    xgb_params = optimize_xgb(series)\n",
    "    models = [\n",
    "        DartsProphet(),\n",
    "        XGBModel(**xgb_params),\n",
    "        RandomForest(),\n",
    "        ExponentialSmoothing()\n",
    "    ]\n",
    "    \n",
    "    forecasts = []\n",
    "    for model in models:\n",
    "        model.fit(series)\n",
    "        forecast = model.forecast(steps)\n",
    "        forecasts.append(forecast)\n",
    "    \n",
    "    return forecasts\n",
    "\n",
    "# Ensemble forecast\n",
    "def ensemble_forecast(forecasts):\n",
    "    return np.mean([f.values() for f in forecasts], axis=0)\n",
    "\n",
    "# Main forecasting function\n",
    "def forecast_sku(sku, steps=2):\n",
    "    data = prepare_data(sku)\n",
    "    series = create_darts_series(data)\n",
    "    \n",
    "    # SARIMA forecast\n",
    "    sarima_pred = sarima_forecast(data, steps)\n",
    "    \n",
    "    # Prophet forecast\n",
    "    prophet_pred = prophet_forecast(data, steps)\n",
    "    \n",
    "    # Darts forecasts\n",
    "    darts_preds = darts_forecast(series, steps)\n",
    "    \n",
    "    # Ensemble\n",
    "    ensemble_pred = ensemble_forecast(darts_preds)\n",
    "    \n",
    "    # Combine all predictions\n",
    "    all_preds = np.vstack([sarima_pred, prophet_pred, ensemble_pred])\n",
    "    final_pred = np.mean(all_preds, axis=0)\n",
    "    \n",
    "    return final_pred\n",
    "\n",
    "# Compare with February 2023\n",
    "def compare_with_feb_2023(sku, prediction):\n",
    "    actual_feb_2023 = df[df['material'] == sku]['2/1/2023'].values[0]\n",
    "    print(f\"SKU: {sku}\")\n",
    "    print(f\"Actual February 2023: {actual_feb_2023}\")\n",
    "    print(f\"Predicted February 2024: {prediction[1]:.2f}\")\n",
    "    print(f\"Year-over-Year Change: {(prediction[1] - actual_feb_2023) / actual_feb_2023 * 100:.2f}%\")\n",
    "    print()\n",
    "\n",
    "# Forecast for multiple SKUs\n",
    "skus_to_forecast = ['sku835', 'sku858', 'sku837', 'sku859', 'sku863']\n",
    "\n",
    "for sku in skus_to_forecast:\n",
    "    prediction = forecast_sku(sku)\n",
    "    compare_with_feb_2023(sku, prediction)"
   ]
  }
 ],
 "metadata": {
  "kernelspec": {
   "display_name": "Python 3 (ipykernel)",
   "language": "python",
   "name": "python3"
  },
  "language_info": {
   "codemirror_mode": {
    "name": "ipython",
    "version": 3
   },
   "file_extension": ".py",
   "mimetype": "text/x-python",
   "name": "python",
   "nbconvert_exporter": "python",
   "pygments_lexer": "ipython3",
   "version": "3.10.12"
  }
 },
 "nbformat": 4,
 "nbformat_minor": 5
}
